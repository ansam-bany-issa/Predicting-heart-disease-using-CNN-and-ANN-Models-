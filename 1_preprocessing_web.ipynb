{
  "nbformat": 4,
  "nbformat_minor": 0,
  "metadata": {
    "colab": {
      "provenance": []
    },
    "kernelspec": {
      "name": "python3",
      "display_name": "Python 3"
    },
    "language_info": {
      "name": "python"
    }
  },
  "cells": [
    {
      "cell_type": "code",
      "source": [
        "#install nltk library\n",
        "pip install nltk"
      ],
      "metadata": {
        "id": "ZTuXnt79xQYV"
      },
      "execution_count": null,
      "outputs": []
    },
    {
      "cell_type": "code",
      "execution_count": null,
      "metadata": {
        "id": "tNCmzd3or-AR"
      },
      "outputs": [],
      "source": [
        "#import the libraries \n",
        "import nltk\n",
        "import string\n",
        "import pandas as pd\n",
        "import numpy as np\n",
        "\n",
        "#Loading the dataset\n",
        "df = pd.read_csv('heart_disease_uci.csv')\n",
        "df.head(5)\n"
      ]
    },
    {
      "cell_type": "code",
      "source": [
        "# Define columns to clean\n",
        "cols_to_clean = ['age', 'sex', 'cp', 'trestbps', 'chol', 'fbs', 'restecg', 'thalch']\n",
        "\n",
        "# Replace missing values with most frequent value in each column\n",
        "for col in df.columns:\n",
        "    mode = df[col].mode()[0]\n",
        "    df[col].fillna(mode, inplace=True)\n",
        "\n",
        "# Remove special characters\n",
        "df = df.replace('[^a-zA-Z0-9]', '', regex=True)\n",
        "\n",
        "# Drop the specified columns\n",
        "clean_data = df.drop(['id', 'dataset', 'exang', 'oldpeak', 'slope', 'ca', 'thal', 'num'], axis=1)\n",
        "\n",
        "# Print the first 5 rows of the cleaned dataset\n",
        "clean_data.head(5)"
      ],
      "metadata": {
        "id": "ZzBSpZ4kIu4i"
      },
      "execution_count": null,
      "outputs": []
    },
    {
      "cell_type": "code",
      "source": [
        "#saving in csv file\n",
        "clean_data.to_csv('after_cleaning.csv')\n",
        "print('Done')"
      ],
      "metadata": {
        "id": "mXc9OZluKp8s"
      },
      "execution_count": null,
      "outputs": []
    }
  ]
}