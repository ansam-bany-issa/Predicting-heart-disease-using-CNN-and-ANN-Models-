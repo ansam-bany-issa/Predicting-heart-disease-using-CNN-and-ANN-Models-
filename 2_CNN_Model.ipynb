{
  "nbformat": 4,
  "nbformat_minor": 0,
  "metadata": {
    "colab": {
      "provenance": []
    },
    "kernelspec": {
      "name": "python3",
      "display_name": "Python 3"
    },
    "language_info": {
      "name": "python"
    }
  },
  "cells": [
    {
      "cell_type": "code",
      "execution_count": null,
      "metadata": {
        "id": "TM9UGJdNQ0uc"
      },
      "outputs": [],
      "source": [
        "!pip install keras "
      ]
    },
    {
      "cell_type": "code",
      "source": [
        "!pip install scikit-learn "
      ],
      "metadata": {
        "id": "2yfxdinNgSr7"
      },
      "execution_count": null,
      "outputs": []
    },
    {
      "cell_type": "code",
      "source": [
        "!pip install tensorflow"
      ],
      "metadata": {
        "id": "Tgi7jfrCgWBQ"
      },
      "execution_count": null,
      "outputs": []
    },
    {
      "cell_type": "code",
      "source": [
        "# Import necessary libraries\n",
        "import pandas as pd\n",
        "import numpy as np\n",
        "from tensorflow.keras.models import load_model\n",
        "from tensorflow import keras\n",
        "from sklearn.model_selection import train_test_split\n",
        "from textblob import TextBlob\n",
        "from keras.preprocessing.text import Tokenizer\n",
        "import tensorflow as tf\n",
        "from tensorflow.keras import layers, models\n",
        "from tensorflow.keras.preprocessing.sequence import pad_sequences\n",
        "from sklearn.preprocessing import OneHotEncoder\n",
        "from keras.models import Sequential\n",
        "from keras.layers import Dense, Embedding, LSTM, Conv1D, MaxPooling1D, Dropout\n",
        "from keras.utils import to_categorical\n",
        "\n",
        "# Load the data\n",
        "data = pd.read_csv('heart.csv')\n",
        "print('Done')\n",
        "\n",
        "df = pd.read_csv('heart_disease.csv')\n",
        "print('Done')"
      ],
      "metadata": {
        "id": "eZaHCNevTnzp"
      },
      "execution_count": null,
      "outputs": []
    },
    {
      "cell_type": "code",
      "source": [
        "# Split the data into training and testing sets\n",
        "train_data = data.sample(frac=0.8, random_state=0)\n",
        "test_data = data.drop(train_data.index)\n",
        "\n",
        "# Preprocessing\n",
        "x_train = np.array(train_data.drop('target', axis=1))\n",
        "y_train = np.array(train_data['target'])\n",
        "x_test = np.array(test_data.drop('target', axis=1))\n",
        "y_test = np.array(test_data['target'])\n",
        "\n",
        "x_train = np.expand_dims(x_train, axis=-1)\n",
        "x_test = np.expand_dims(x_test, axis=-1)\n",
        "\n",
        "# Define the CNN architecture\n",
        "model = keras.Sequential([\n",
        "    layers.Conv1D(filters=32, kernel_size=3, activation='relu', input_shape=(13, 1)),\n",
        "    layers.MaxPooling1D(pool_size=2),\n",
        "    layers.Flatten(),\n",
        "    layers.Dense(64, activation='relu'),\n",
        "    layers.Dense(1, activation='sigmoid')\n",
        "])\n",
        "\n",
        "# Compile the model\n",
        "model.compile(optimizer='adam',\n",
        "              loss='binary_crossentropy',\n",
        "              metrics=['accuracy'])\n",
        "\n",
        "# Fit the model\n",
        "history = model.fit(x_train, y_train, epochs=50, validation_data=(x_test, y_test))\n",
        "\n",
        "# Evaluate the model on the test data\n",
        "_, accuracy = model.evaluate(x_test, y_test)\n",
        "print('\\n Test accuracy for the CNN Model:', accuracy*100 ,'\\n')\n",
        "\n"
      ],
      "metadata": {
        "id": "YyBlsu_8VEfB"
      },
      "execution_count": null,
      "outputs": []
    },
    {
      "cell_type": "code",
      "source": [
        "# Select 5 rows randomly from the test data\n",
        "random_indices = np.random.choice(len(x_test), size=5, replace=False)\n",
        "random_rows = x_test[random_indices]\n",
        "\n",
        "# Make predictions for the randomly selected rows\n",
        "predictions = model.predict(random_rows)\n",
        "\n",
        "# Print the selected rows and their corresponding predictions\n",
        "for i, row in enumerate(random_rows):\n",
        "    print(f\"Row {i+1}: {row.flatten()}\")\n",
        "    print(f\"Prediction: {'Normal' if predictions[i] < 0.5 else 'Abnormal'}\")\n",
        "    print()\n"
      ],
      "metadata": {
        "id": "9_JkNpW4Ux3h"
      },
      "execution_count": null,
      "outputs": []
    },
    {
      "cell_type": "code",
      "source": [
        "# Choose a sample from the dataset\n",
        "sample = data.sample()\n",
        "x_sample = np.array(sample.drop('target', axis=1)).reshape((1, 13, 1))\n",
        "\n",
        "# Use the trained model to make a prediction\n",
        "prediction = model.predict(x_sample)\n",
        "\n",
        "# Print the selected sample and the prediction\n",
        "print('\\n',sample)\n",
        "if prediction < 0.5:\n",
        "    print(\"\\n The heart is Normal.\")\n",
        "else:\n",
        "    print(\"\\n The heart is Abnormal.\")\n"
      ],
      "metadata": {
        "id": "VOnVmf3GVlVy"
      },
      "execution_count": null,
      "outputs": []
    },
    {
      "cell_type": "code",
      "source": [
        "df.head(3)"
      ],
      "metadata": {
        "id": "ssi583FBvi2R"
      },
      "execution_count": null,
      "outputs": []
    },
    {
      "cell_type": "code",
      "source": [
        "\n",
        "# Define dictionaries to encode the categorical columns\n",
        "sex_dict = {'Male':0, 'Female': 1}\n",
        "cp_dict = {'typical angina': 1, 'atypical angina': 2, 'non-anginal pain': 3, 'asymptomatic': 4}\n",
        "fbs_dict = {True: 1, False: 0}\n",
        "restecg_dict = {'normal': 0, 'st-t abnormality': 1, 'lv hypertrophy': 2}\n",
        "exang_dict = {True:1, False: 0}\n",
        "slope_dict = {'upsloping': 1, 'flat': 2, 'downsloping': 3}\n",
        "thal_dict = {'normal': 1, 'fixed defect': 2, 'reversible defect': 3}\n",
        "\n",
        "# Encode the categorical columns\n",
        "df['sex'] = df['sex'].map(sex_dict)\n",
        "df['cp'] = df['cp'].map(cp_dict)\n",
        "df['fbs'] = df['fbs'].map(fbs_dict)\n",
        "df['restecg'] = df['restecg'].map(restecg_dict)\n",
        "df['exang'] = df['exang'].map(exang_dict)\n",
        "df['slope'] = df['slope'].map(slope_dict)\n",
        "df['thal'] = df['thal'].map(thal_dict)\n",
        "\n",
        "#Convert all columns to float\n",
        "df = df.astype(float)\n",
        "\n",
        "# Print the encoded data\n",
        "df.head(5)\n"
      ],
      "metadata": {
        "id": "kFocFyb3i0_t"
      },
      "execution_count": null,
      "outputs": []
    },
    {
      "cell_type": "code",
      "source": [
        "# Split the data into training and testing sets\n",
        "train_data = data.sample(frac=0.8, random_state=0)\n",
        "test_data = data.drop(train_data.index)\n",
        "\n",
        "# Preprocessing\n",
        "x_train = np.array(train_data.drop('thal', axis=1))\n",
        "y_train = np.array(train_data['thal'])\n",
        "x_test = np.array(test_data.drop('thal', axis=1))\n",
        "y_test = np.array(test_data['thal'])\n",
        "\n",
        "x_train = np.expand_dims(x_train, axis=-1)\n",
        "x_test = np.expand_dims(x_test, axis=-1)\n",
        "\n",
        "# Define the CNN architecture\n",
        "model = keras.Sequential([\n",
        "    layers.Conv1D(filters=32, kernel_size=3, activation='relu', input_shape=(13, 1)),\n",
        "    layers.MaxPooling1D(pool_size=2),\n",
        "    layers.Flatten(),\n",
        "    layers.Dense(64, activation='relu'),\n",
        "    layers.Dense(1, activation='sigmoid')\n",
        "])\n",
        "\n",
        "# Compile the model\n",
        "model.compile(optimizer='adam',\n",
        "              loss='binary_crossentropy',\n",
        "              metrics=['accuracy'])\n",
        "\n",
        "# Choose a sample from the dataset\n",
        "sample = data.sample()\n",
        "x_sample = np.array(sample.drop('thal', axis=1)).reshape((1, 13, 1))\n",
        "\n",
        "# Use the trained model to make a prediction\n",
        "prediction = model.predict(x_sample)\n",
        "\n",
        "# Define reverse dictionaries to decode the categorical columns\n",
        "sex_dict_rev = {0:'Male', 1:'Female'}\n",
        "cp_dict_rev = {1:'typical angina', 2:'atypical angina', 3:'non-anginal pain', 4:'asymptomatic'}\n",
        "fbs_dict_rev = {1:True, 0:False}\n",
        "restecg_dict_rev = {0:'normal', 1:'st-t abnormality', 2:'lv hypertrophy'}\n",
        "exang_dict_rev = {1:True, 0:False}\n",
        "slope_dict_rev = {1:'upsloping', 2:'flat', 3:'downsloping'}\n",
        "thal_dict_rev = {1:'normal', 2:'fixed defect', 3:'reversible defect'}\n",
        "\n",
        "# Replace the encoded values with their categorical counterparts\n",
        "sample['sex'] = sample['sex'].replace(sex_dict_rev)\n",
        "sample['cp'] = sample['cp'].replace(cp_dict_rev)\n",
        "sample['fbs'] = sample['fbs'].replace(fbs_dict_rev)\n",
        "sample['restecg'] = sample['restecg'].replace(restecg_dict_rev)\n",
        "sample['exang'] = sample['exang'].replace(exang_dict_rev)\n",
        "sample['slope'] = sample['slope'].replace(slope_dict_rev)\n",
        "sample['thal'] = sample['thal'].replace(thal_dict_rev)\n",
        "\n",
        "# Print the selected sample and the prediction\n",
        "print('\\n',sample)\n",
        "if prediction < 0.5:\n",
        "    print(\"\\n The heart is Normal.\")\n",
        "else:\n",
        "    print(\"\\n The heart is Abnormal.\")\n"
      ],
      "metadata": {
        "id": "PTuHnq9hUZoH"
      },
      "execution_count": null,
      "outputs": []
    },
    {
      "cell_type": "code",
      "source": [
        "#To predict the heart disease for the end user\n",
        "user_data=[]\n",
        "# Get user input for 'age'\n",
        "age = input(\"Enter age: \")\n",
        "\n",
        "# Get user input for 'sex'\n",
        "sex = input(\"Enter sex (Male or Female): \")\n",
        "sex_encoded = sex_dict[sex.capitalize()]\n",
        "sex_encoded\n",
        "\n",
        "\n",
        "# Get user input for 'cp'\n",
        "cp = input(\"Enter chest pain type (typical angina, atypical angina, non-anginal pain, or asymptomatic): \")\n",
        "cp_encoded = cp_dict[cp.lower()]\n",
        "user_data.append(cp_encoded)\n",
        "\n",
        "\n",
        "# Get user input for 'trestbps'\n",
        "trestbps   = input(\"Enter resting blood pressure in (mmHg):\")\n",
        "\n",
        "# Get user input for 'cholestrol'\n",
        "chol = input(\"Enter cholestrol (<=200mg/dl or >200mg/dl): \")\n",
        "\n",
        "# Get user input for 'fbs'\n",
        "fbs = input(\"Enter fasting blood sugar level (TRUE or FALSE): \")\n",
        "fbs_encoded = fbs_dict\n",
        "user_data.append(fbs_encoded)\n",
        "\n",
        "\n",
        "# Get user input for 'restecg'\n",
        "restecg = input(\"Enter resting electrocardiographic results (normal, st-t abnormality, or lv hypertrophy): \")\n",
        "restecg_encoded = restecg_dict[restecg.lower()]\n",
        "user_data.append(restecg_encoded)\n",
        "\n",
        "# Get user input for 'thalch'\n",
        "thalch = input(\"Enter maximum_heartrate_achieved (<=150 bpm or >150 bpm): \")\n",
        "\n",
        "# Get user input for 'exang'\n",
        "exang = input(\"Enter exercise induced angina (TRUE or FALSE): \")\n",
        "exang_encoded = exang_dict\n",
        "user_data.append(exang_encoded)\n",
        "\n",
        "\n",
        "# Get user input for 'oldpeak'\n",
        "oldpeak = input(\"Enter st depression: \")\n",
        "\n",
        "# Get user input for 'slope'\n",
        "slope = input(\"Enter the slope of the peak exercise ST segment (upsloping, flat, or downsloping): \")\n",
        "slope_encoded = slope_dict\n",
        "user_data.append(slope_encoded)\n",
        "\n",
        "# Get user input for 'thal'\n",
        "thal = input(\"Enter thal (normal, reversable defect, fixed defect): \")\n",
        "thal_encoded = thal_dict\n",
        "user_data.append(thal_encoded)\n",
        "\n",
        "print('\\n Just wait \\n we make a pridiction for you \\n')"
      ],
      "metadata": {
        "id": "bipzB7IulbzI"
      },
      "execution_count": null,
      "outputs": []
    },
    {
      "cell_type": "code",
      "source": [
        "# Encode categorical variables\n",
        "sex_encoded = {'Female': 0, 'Male': 1}[sex]\n",
        "cp_encoded = {'typical angina': 0, 'atypical angina': 1, 'non-anginal pain': 2, 'asymptomatic': 3}[cp]\n",
        "fbs_encoded = {'FALSE': 0, 'TRUE': 1}[fbs]\n",
        "restecg_encoded = {'normal': 0, 'st-t abnormality': 1, 'lv hypertrophy': 2}[restecg]\n",
        "exang_encoded = {'FALSE': 0, 'TRUE': 1}[exang]\n",
        "slope_encoded = {'upsloping': 0, 'flat': 1, 'downsloping': 2}[slope]\n",
        "thal_encoded = {'normal': 0, 'fixed defect': 1, 'reversable defect': 2}[thal]\n",
        "\n",
        "# Prepare the user data for prediction\n",
        "user_data = np.array([[age, sex_encoded, cp_encoded, trestbps, chol, fbs_encoded, restecg_encoded, thalch, exang_encoded, oldpeak, slope_encoded, thal_encoded]], dtype=float)\n",
        "user_data = np.reshape(user_data, (len(user_data), 12, 1))\n",
        "\n",
        "\n",
        "\n",
        "# Make a prediction\n",
        "prediction = model.predict(user_data)[0][0]\n",
        "if prediction > 0.5:\n",
        "    print(\"\\n You have a heart disease (Abnormal)\\n\")\n",
        "else:\n",
        "    print(\"\\n You don't have a heart disease (Normal)\\n\")\n",
        "\n",
        "\n"
      ],
      "metadata": {
        "id": "apzIMWS5NZJa"
      },
      "execution_count": null,
      "outputs": []
    }
  ]
}